{
 "cells": [
  {
   "cell_type": "code",
   "execution_count": 1,
   "metadata": {
    "collapsed": true
   },
   "outputs": [],
   "source": [
    "import re\n",
    "import csv"
   ]
  },
  {
   "cell_type": "code",
   "execution_count": 2,
   "metadata": {
    "collapsed": true
   },
   "outputs": [],
   "source": [
    "# functions to extract even and odd lines separately from text files http://stackoverflow.com/questions/18047381/separate-odd-and-even-lines-in-a-generator-with-python\n",
    "def oddlines(filename):\n",
    "\todds = []\n",
    "\tf = open(filename)\n",
    "\tfor index,line in enumerate(f):\n",
    "\t\tif index % 2:\n",
    "\t\t\tstripped_line = line.rstrip()\n",
    "\t\t\todds.append(stripped_line)\n",
    "\tlow_odds = [i.lower() for i in odds]\n",
    "\tlow_odds = [w.replace('visual arts', 'visual-arts') for w in low_odds]\n",
    "\treturn low_odds\n",
    "\n",
    "def evenlines(filename):\n",
    "\tevens = []\n",
    "\tf = open(filename)\n",
    "\tfor index,line in enumerate(f):\n",
    "\t\tif not index % 2:\n",
    "\t\t\tstripped_line = line.rstrip()\n",
    "\t\t\tevens.append(stripped_line)\n",
    "\treturn evens"
   ]
  },
  {
   "cell_type": "code",
   "execution_count": 12,
   "metadata": {
    "collapsed": true
   },
   "outputs": [],
   "source": [
    "authors = evenlines('aupg.txt')\n",
    "fpages = oddlines('aupg.txt')\n",
    "genres = oddlines('titgen.txt')\n",
    "titles = evenlines('titgen.txt')"
   ]
  },
  {
   "cell_type": "code",
   "execution_count": 13,
   "metadata": {
    "collapsed": true
   },
   "outputs": [],
   "source": [
    "# convert fpage values to int type for sorting\n",
    "fpages = [int(i) for i in fpages]\n",
    "# determine the final page of the last entry from the pdf\n",
    "finalpage = 93\n",
    "# add the final page to the first page list\n",
    "fpages.append(finalpage)\n",
    "# create a list of last pages by subtracting 1 from each subsequent first page (remove the first first page after this bc it will just be zero)\n",
    "lpages = [i - 1 for i in fpages]\n",
    "lpages.remove(0)"
   ]
  },
  {
   "cell_type": "code",
   "execution_count": 14,
   "metadata": {
    "collapsed": false
   },
   "outputs": [
    {
     "name": "stdout",
     "output_type": "stream",
     "text": [
      "[1, 2, 9, 13, 15, 16, 19, 20, 22, 23, 29, 31, 32, 36, 37, 38, 40, 41, 42, 43, 44, 45, 46, 47, 48, 49, 50, 51, 52, 53, 58, 59, 60, 61, 70, 71, 74, 75, 76, 77, 86, 92, 93]\n"
     ]
    },
    {
     "data": {
      "text/plain": [
       "43"
      ]
     },
     "execution_count": 14,
     "metadata": {},
     "output_type": "execute_result"
    }
   ],
   "source": [
    "print(fpages)\n",
    "len(fpages)"
   ]
  },
  {
   "cell_type": "code",
   "execution_count": 15,
   "metadata": {
    "collapsed": false
   },
   "outputs": [
    {
     "name": "stdout",
     "output_type": "stream",
     "text": [
      "[1, 8, 12, 14, 15, 18, 19, 21, 22, 28, 30, 31, 35, 36, 37, 39, 40, 41, 42, 43, 44, 45, 46, 47, 48, 49, 50, 51, 52, 57, 58, 59, 60, 69, 70, 73, 74, 75, 76, 85, 91, 92]\n"
     ]
    },
    {
     "data": {
      "text/plain": [
       "42"
      ]
     },
     "execution_count": 15,
     "metadata": {},
     "output_type": "execute_result"
    }
   ],
   "source": [
    "print(lpages)\n",
    "len(lpages)"
   ]
  },
  {
   "cell_type": "code",
   "execution_count": 16,
   "metadata": {
    "collapsed": false
   },
   "outputs": [
    {
     "name": "stdout",
     "output_type": "stream",
     "text": [
      "[1, 8, 12, 14, 15, 18, 19, 21, 22, 28, 30, 31, 35, 36, 37, 39, 40, 41, 42, 43, 44, 45, 46, 47, 48, 49, 50, 51, 52, 57, 58, 59, 60, 69, 70, 73, 74, 75, 76, 85, 91]\n"
     ]
    },
    {
     "data": {
      "text/plain": [
       "41"
      ]
     },
     "execution_count": 16,
     "metadata": {},
     "output_type": "execute_result"
    }
   ],
   "source": [
    "# lpages.remove(-1)\n",
    "lpages.pop(-1)\n",
    "print(lpages)\n",
    "len(lpages)"
   ]
  },
  {
   "cell_type": "code",
   "execution_count": 17,
   "metadata": {
    "collapsed": false
   },
   "outputs": [
    {
     "name": "stdout",
     "output_type": "stream",
     "text": [
      "[1, 8, 12, 14, 15, 18, 19, 21, 22, 28, 30, 31, 35, 36, 37, 39, 40, 41, 42, 43, 44, 45, 46, 47, 48, 49, 50, 51, 52, 57, 58, 59, 60, 69, 70, 73, 74, 75, 76, 85, 91, 93]\n"
     ]
    },
    {
     "data": {
      "text/plain": [
       "42"
      ]
     },
     "execution_count": 17,
     "metadata": {},
     "output_type": "execute_result"
    }
   ],
   "source": [
    "lpages.append(finalpage)\n",
    "print(lpages)\n",
    "len(lpages)"
   ]
  },
  {
   "cell_type": "code",
   "execution_count": 18,
   "metadata": {
    "collapsed": false
   },
   "outputs": [
    {
     "name": "stdout",
     "output_type": "stream",
     "text": [
      "[1, 2, 9, 13, 15, 16, 19, 20, 22, 23, 29, 31, 32, 36, 37, 38, 40, 41, 42, 43, 44, 45, 46, 47, 48, 49, 50, 51, 52, 53, 58, 59, 60, 61, 70, 71, 74, 75, 76, 77, 86, 92]\n"
     ]
    },
    {
     "data": {
      "text/plain": [
       "42"
      ]
     },
     "execution_count": 18,
     "metadata": {},
     "output_type": "execute_result"
    }
   ],
   "source": [
    "# remove the final page that was added to the fpages list\n",
    "fpages.pop(-1)\n",
    "print(fpages)\n",
    "len(fpages)"
   ]
  },
  {
   "cell_type": "code",
   "execution_count": null,
   "metadata": {
    "collapsed": true
   },
   "outputs": [],
   "source": []
  }
 ],
 "metadata": {
  "anaconda-cloud": {},
  "kernelspec": {
   "display_name": "Python [conda root]",
   "language": "python",
   "name": "conda-root-py"
  },
  "language_info": {
   "codemirror_mode": {
    "name": "ipython",
    "version": 3
   },
   "file_extension": ".py",
   "mimetype": "text/x-python",
   "name": "python",
   "nbconvert_exporter": "python",
   "pygments_lexer": "ipython3",
   "version": "3.5.2"
  }
 },
 "nbformat": 4,
 "nbformat_minor": 1
}
