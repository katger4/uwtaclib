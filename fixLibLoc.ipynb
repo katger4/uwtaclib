{
 "cells": [
  {
   "cell_type": "code",
   "execution_count": 1,
   "metadata": {
    "collapsed": true
   },
   "outputs": [],
   "source": [
    "import re\n",
    "import csv"
   ]
  },
  {
   "cell_type": "code",
   "execution_count": 103,
   "metadata": {
    "collapsed": true
   },
   "outputs": [],
   "source": [
    "def load_file_urban(filename):\n",
    "    # open the Zotero export as a file object (note the utf-8 encoding to properly read the text encoding of the zotero output)\n",
    "    with open(filename, 'r', encoding='utf-8-sig') as file:\n",
    "        # create empty array to hold each entry as a dict\n",
    "        data = []\n",
    "        # create a csv-reader object\n",
    "        reader = csv.DictReader(file)\n",
    "        # loop through each row in the csv-reader object...\n",
    "        for row in reader:\n",
    "            row['library_location'] = extract_libloc_urban(row)\n",
    "            row['comments'] = ''\n",
    "            for k,v in row.items():\n",
    "                if \"University of Washington - Tacoma Campus\" in v:\n",
    "                    row[k] = v.replace(v, 'University of Washington Tacoma')\n",
    "                    #print(row)\n",
    "            data.append(row)\n",
    "    return data"
   ]
  },
  {
   "cell_type": "code",
   "execution_count": 110,
   "metadata": {
    "collapsed": true
   },
   "outputs": [],
   "source": [
    "def extract_libloc_urban(row):\n",
    "    if row['comments'] != '':\n",
    "        LOC_CALL = row['comments'][10:]\n",
    "        LINK = 'LINK'\n",
    "        libloc = '<p><a href=\"'+LINK+'\"><strong>Print copy in '+LOC_CALL+'</strong></a></p>'\n",
    "        print('title: _'+row['title']+'_\\n'+'author: '+row['author1_lname'])\n",
    "    else:\n",
    "        libloc = ''\n",
    "    return libloc"
   ]
  },
  {
   "cell_type": "code",
   "execution_count": 57,
   "metadata": {
    "collapsed": true
   },
   "outputs": [],
   "source": [
    "def process_LOC_CALL(LOC_CALL):\n",
    "    if 'n:' in LOC_CALL:\n",
    "        LOC_CALL = LOC_CALL[3:]\n",
    "    elif '\\n' in LOC_CALL:\n",
    "        LOC_CALL = LOC_CALL[1:]\n",
    "    return LOC_CALL"
   ]
  },
  {
   "cell_type": "code",
   "execution_count": 84,
   "metadata": {
    "collapsed": true
   },
   "outputs": [],
   "source": [
    "def extract_libloc_ias(row):\n",
    "    if row['library_location'] != '' and 'Print copy' not in row['library_location']:\n",
    "        libloc = row['library_location'].replace('Location:', 'Print copy in')\n",
    "    elif row['library_location'] == '' and row['comments'] != '' and row['source_fulltext_url'] == '':\n",
    "        LOC_CALL = process_LOC_CALL(row['comments'][10:])\n",
    "        LINK = 'LINK'\n",
    "        libloc = '<p><a href=\"'+LINK+'\"><strong>Print copy in '+LOC_CALL+'</strong></a></p>'\n",
    "        print('title: _'+row['title']+'_\\n'+'author: '+row['author1_lname'])\n",
    "    elif row['library_location'] == '' and row['comments'] != '' and row['source_fulltext_url'] != '':\n",
    "        LOC_CALL = process_LOC_CALL(row['comments'][10:])\n",
    "        LINK = row['source_fulltext_url']\n",
    "        libloc = '<p><a href=\"'+LINK+'\"><strong>Print copy in '+LOC_CALL+'</strong></a></p>'\n",
    "    else:\n",
    "        libloc = row['library_location']\n",
    "    return libloc"
   ]
  },
  {
   "cell_type": "code",
   "execution_count": 59,
   "metadata": {
    "collapsed": true
   },
   "outputs": [],
   "source": [
    "def load_file(filename):\n",
    "    # open the Zotero export as a file object (note the utf-8 encoding to properly read the text encoding of the zotero output)\n",
    "    with open(filename, 'r', encoding='utf-8-sig') as file:\n",
    "        # create empty array to hold each entry as a dict\n",
    "        data = []\n",
    "        # create a csv-reader object\n",
    "        reader = csv.DictReader(file)\n",
    "        # loop through each row in the csv-reader object...\n",
    "        for row in reader:\n",
    "            row['library_location'] = extract_libloc_ias(row)\n",
    "            row['comments'] = ''\n",
    "            data.append(row)\n",
    "    return data"
   ]
  },
  {
   "cell_type": "code",
   "execution_count": 70,
   "metadata": {
    "collapsed": true
   },
   "outputs": [],
   "source": [
    "def write(data, output):\n",
    "    fieldnames = data[0].keys()\n",
    "    with open(output, 'w', newline='',encoding='utf-8-sig') as output_file:\n",
    "        dict_writer = csv.DictWriter(output_file, fieldnames=fieldnames)\n",
    "        dict_writer.writeheader()\n",
    "        dict_writer.writerows(data)"
   ]
  },
  {
   "cell_type": "code",
   "execution_count": 137,
   "metadata": {
    "collapsed": true
   },
   "outputs": [],
   "source": [
    "def extract_libloc_sw(row):\n",
    "    if row['library_location'] != '' and 'Print copy' not in row['library_location']:\n",
    "        libloc = row['library_location'].replace('\">', '\">Print copy in ')\n",
    "    else:\n",
    "        libloc = row['library_location']\n",
    "    return libloc"
   ]
  },
  {
   "cell_type": "code",
   "execution_count": 138,
   "metadata": {
    "collapsed": true
   },
   "outputs": [],
   "source": [
    "def load_file_sw(filename):\n",
    "    # open the Zotero export as a file object (note the utf-8 encoding to properly read the text encoding of the zotero output)\n",
    "    with open(filename, 'r', encoding='utf-8-sig') as file:\n",
    "        # create empty array to hold each entry as a dict\n",
    "        data = []\n",
    "        # create a csv-reader object\n",
    "        reader = csv.DictReader(file)\n",
    "        # loop through each row in the csv-reader object...\n",
    "        for row in reader:\n",
    "            row['library_location'] = extract_libloc_sw(row)\n",
    "            row['comments'] = ''\n",
    "            data.append(row)\n",
    "    return data"
   ]
  },
  {
   "cell_type": "code",
   "execution_count": 140,
   "metadata": {
    "collapsed": false
   },
   "outputs": [],
   "source": [
    "sw = load_file_sw('sw.csv')\n",
    "# [i['library_location'] for i in sw]"
   ]
  },
  {
   "cell_type": "code",
   "execution_count": 141,
   "metadata": {
    "collapsed": true
   },
   "outputs": [],
   "source": [
    "write(sw, 'sw-link.csv')"
   ]
  },
  {
   "cell_type": "code",
   "execution_count": 121,
   "metadata": {
    "collapsed": false
   },
   "outputs": [
    {
     "name": "stdout",
     "output_type": "stream",
     "text": [
      "title: _Psychosocial Nursing Care of the Emergency Patient_\n",
      "author: Fought\n",
      "title: _Caring and Responsibility: The Crossroads Between Holistic Practice and Traditional Medicine_\n",
      "author: Lowenberg\n",
      "title: _Opening Doors: Stories of Public Health Nursing_\n",
      "author: Zerwekh\n",
      "title: _Standing on Both Feet: Voices of Older Mixed-Race Americans_\n",
      "author: Tashiro\n",
      "title: _Outcome Measures in Home Care: Service_\n",
      "author: Wilson\n"
     ]
    }
   ],
   "source": [
    "nurse = load_file_urban('nurse.csv')"
   ]
  },
  {
   "cell_type": "code",
   "execution_count": 122,
   "metadata": {
    "collapsed": true
   },
   "outputs": [],
   "source": [
    "for i in nurse:\n",
    "    if i['title'] == \"Psychosocial Nursing Care of the Emergency Patient\":\n",
    "        i['library_location'] = i['library_location'].replace('LINK', 'http://alliance-primo.hosted.exlibrisgroup.com/UW:all:CP71134211420001451')\n",
    "    elif i['title'] == \"Caring and Responsibility: The Crossroads Between Holistic Practice and Traditional Medicine\":\n",
    "        i['library_location'] = i['library_location'].replace('LINK', 'http://alliance-primo.hosted.exlibrisgroup.com/UW:all:CP71170633030001451')\n",
    "    elif i['title'] == \"Opening Doors: Stories of Public Health Nursing\":\n",
    "        i['library_location'] = i['library_location'].replace('LINK', 'http://alliance-primo.hosted.exlibrisgroup.com/UW:all:CP71169350610001451')\n",
    "    elif i['title'] == \"Standing on Both Feet: Voices of Older Mixed-Race Americans\":\n",
    "        i['library_location'] = i['library_location'].replace('LINK', 'http://alliance-primo.hosted.exlibrisgroup.com/UW:all:CP71144112360001451')\n",
    "    elif i['title'] == \"Outcome Measures in Home Care: Service\":\n",
    "        i['library_location'] = i['library_location'].replace('LINK', 'http://alliance-primo.hosted.exlibrisgroup.com/UW:all:CP71135203210001451')"
   ]
  },
  {
   "cell_type": "code",
   "execution_count": 123,
   "metadata": {
    "collapsed": false
   },
   "outputs": [
    {
     "data": {
      "text/plain": [
       "[]"
      ]
     },
     "execution_count": 123,
     "metadata": {},
     "output_type": "execute_result"
    }
   ],
   "source": [
    "[(i['title'], i['library_location']) for i in nurse if 'LINK' in i['library_location']]"
   ]
  },
  {
   "cell_type": "code",
   "execution_count": 124,
   "metadata": {
    "collapsed": true
   },
   "outputs": [],
   "source": [
    "write(nurse, 'nurse-link.csv')"
   ]
  },
  {
   "cell_type": "code",
   "execution_count": 104,
   "metadata": {
    "collapsed": false
   },
   "outputs": [],
   "source": [
    "# csvfile = load_file('bus.csv')\n",
    "urban = load_file_urban('urban.csv')\n",
    "# print([i['library_location'] for i in csvfile])\n",
    "# ([i['library_location'] for i in urban])"
   ]
  },
  {
   "cell_type": "code",
   "execution_count": 105,
   "metadata": {
    "collapsed": true
   },
   "outputs": [],
   "source": [
    "for i in urban:\n",
    "    if i['title'] == \"Knowledge-based Services, Internationalization and Regional Development (The Dynamics of Economic Space)\":\n",
    "        i['library_location'] = i['library_location'].replace('LINK', 'http://alliance-primo.hosted.exlibrisgroup.com/UW:all:CP71111802890001451')\n",
    "    elif i['title'] == \"New Economic Spaces: New Economic Geographies (Dynamics of Economic Space)\":\n",
    "        i['library_location'] = i['library_location'].replace('LINK', 'http://alliance-primo.hosted.exlibrisgroup.com/UW:all:CP71146495280001451')\n",
    "    elif i['title'] == \"City and Environment\":\n",
    "        i['library_location'] = i['library_location'].replace('LINK', 'http://alliance-primo.hosted.exlibrisgroup.com/UW:all:CP71146483660001451')\n",
    "    elif i['title'] == \"Patriotic Professionalism in Urban China: Fostering Talent (Urban Life, Landscape and Policy)\":\n",
    "        i['library_location'] = i['library_location'].replace('LINK', 'http://alliance-primo.hosted.exlibrisgroup.com/UW:all:CP71181513880001451')\n",
    "    elif i['title'] == \"Urban Growth Management and Its Discontents: Promises, Practices, and Geopolitics in U.S. City-Regions\":\n",
    "        i['library_location'] = i['library_location'].replace('LINK', 'http://alliance-primo.hosted.exlibrisgroup.com/UW:all:CP71166297960001451')\n",
    "    elif i['title'] == \"Industrial Location: Principles, Practice and Policy\":\n",
    "        i['library_location'] = i['library_location'].replace('LINK', 'http://alliance-primo.hosted.exlibrisgroup.com/UW:all:CP71109682410001451')\n",
    "    elif i['title'] == \"Services and Economic Development in the Asia-Pacific\":\n",
    "        i['library_location'] = i['library_location'].replace('LINK', 'http://alliance-primo.hosted.exlibrisgroup.com/UW:all:CP71125613940001451')\n",
    "    elif i['title'] == \"Geography and technology\":\n",
    "        i['library_location'] = i['library_location'].replace('LINK', 'http://alliance-primo.hosted.exlibrisgroup.com/UW:all:CP71102105490001451')\n",
    "        i['title'] = \"Geography and Technology\"\n",
    "    elif i['title'] == \"Rediscovering Geography: New Relevance for Science and Society\":\n",
    "        i['library_location'] = i['library_location'].replace('LINK', 'http://alliance-primo.hosted.exlibrisgroup.com/UW:all:CP71148264840001451')\n",
    "    elif i['title'] == \"Modernizing Yazd: Selective Historical Memory and the Fate of Vernacular Architecture\":\n",
    "        i['library_location'] = i['library_location'].replace('LINK', 'http://alliance-primo.hosted.exlibrisgroup.com/UW:all:CP71182648900001451')"
   ]
  },
  {
   "cell_type": "code",
   "execution_count": 106,
   "metadata": {
    "collapsed": false
   },
   "outputs": [
    {
     "data": {
      "text/plain": [
       "[]"
      ]
     },
     "execution_count": 106,
     "metadata": {},
     "output_type": "execute_result"
    }
   ],
   "source": [
    "[(i['title'], i['library_location']) for i in urban if 'LINK' in i['library_location']]"
   ]
  },
  {
   "cell_type": "code",
   "execution_count": 107,
   "metadata": {
    "collapsed": false
   },
   "outputs": [
    {
     "data": {
      "text/plain": [
       "[]"
      ]
     },
     "execution_count": 107,
     "metadata": {},
     "output_type": "execute_result"
    }
   ],
   "source": [
    "[i['title'] for i in urban if \"University of Washington - Tacoma Campus\" in i.values()]"
   ]
  },
  {
   "cell_type": "code",
   "execution_count": 108,
   "metadata": {
    "collapsed": true
   },
   "outputs": [],
   "source": [
    "write(urban, 'urban-link.csv')"
   ]
  },
  {
   "cell_type": "code",
   "execution_count": 114,
   "metadata": {
    "collapsed": false
   },
   "outputs": [
    {
     "name": "stdout",
     "output_type": "stream",
     "text": [
      "title: _The Impact of Identity in K-8 Mathematics: Rethinking Equity-Based Practices_\n",
      "author: Aguirre\n",
      "title: _Instructional Practices for Students with Behavioral Disorders: Strategies for Reading, Writing, and Math_\n",
      "author: Benner\n",
      "title: _Race, Racism and Multiraciality in American Education_\n",
      "author: Knaus\n",
      "title: _Learning Chinese: through Festivals and Legends_\n",
      "author: Louie\n",
      "title: _Learning Chinese: Through Stories and Activities_\n",
      "author: Louie\n",
      "title: _The Helping Relationship: Process and Skills_\n",
      "author: Brammer\n",
      "title: _Bodies Out of Control: Rethinking Science Texts_\n",
      "author: Weinstein\n",
      "title: _Robot World: Education, Popular Culture, and Science_\n",
      "author: Weinstein\n",
      "title: _Beginning Reading Instruction Study_\n",
      "author: Stein\n"
     ]
    }
   ],
   "source": [
    "edu = load_file_urban('edu.csv')"
   ]
  },
  {
   "cell_type": "code",
   "execution_count": 117,
   "metadata": {
    "collapsed": true
   },
   "outputs": [],
   "source": [
    "for i in edu:\n",
    "    if i['title'] == \"The Impact of Identity in K-8 Mathematics: Rethinking Equity-Based Practices\":\n",
    "        i['library_location'] = i['library_location'].replace('LINK', 'http://alliance-primo.hosted.exlibrisgroup.com/UW:all:CP71186475160001451')\n",
    "    elif i['title'] == \"Instructional Practices for Students with Behavioral Disorders: Strategies for Reading, Writing, and Math\":\n",
    "        i['library_location'] = i['library_location'].replace('LINK', 'http://alliance-primo.hosted.exlibrisgroup.com/UW:all:CP71134459040001451')\n",
    "    elif i['title'] == \"Race, Racism and Multiraciality in American Education\":\n",
    "        i['library_location'] = i['library_location'].replace('LINK', 'http://alliance-primo.hosted.exlibrisgroup.com/UW:all:CP71143392860001451')\n",
    "    elif i['title'] == \"Learning Chinese: through Festivals and Legends\":\n",
    "        i['library_location'] = i['library_location'].replace('LINK', 'http://alliance-primo.hosted.exlibrisgroup.com/UW:all:CP71109568500001451')\n",
    "        i['title'] = 'Learning Chinese: Through Festivals and Legends'\n",
    "    elif i['title'] == \"Learning Chinese: Through Stories and Activities\":\n",
    "        i['library_location'] = i['library_location'].replace('LINK', 'http://alliance-primo.hosted.exlibrisgroup.com/UW:all:CP71147755580001451')\n",
    "    elif i['title'] == \"The Helping Relationship: Process and Skills\":\n",
    "        i['library_location'] = i['library_location'].replace('LINK', 'http://alliance-primo.hosted.exlibrisgroup.com/UW:all:CP71133279840001451')\n",
    "    elif i['title'] == \"Bodies Out of Control: Rethinking Science Texts\":\n",
    "        i['library_location'] = i['library_location'].replace('LINK', 'http://alliance-primo.hosted.exlibrisgroup.com/UW:all:CP71167733930001451')\n",
    "    elif i['title'] == \"Robot World: Education, Popular Culture, and Science\":\n",
    "        i['library_location'] = i['library_location'].replace('LINK', 'http://alliance-primo.hosted.exlibrisgroup.com/UW:all:CP71117617550001451')\n",
    "    elif i['title'] == \"Beginning Reading Instruction Study\":\n",
    "        i['library_location'] = i['library_location'].replace('LINK', 'http://alliance-primo.hosted.exlibrisgroup.com/UW:all:CP71153513240001451')"
   ]
  },
  {
   "cell_type": "code",
   "execution_count": 118,
   "metadata": {
    "collapsed": false
   },
   "outputs": [
    {
     "data": {
      "text/plain": [
       "[]"
      ]
     },
     "execution_count": 118,
     "metadata": {},
     "output_type": "execute_result"
    }
   ],
   "source": [
    "[(i['title'], i['library_location']) for i in edu if 'LINK' in i['library_location']]"
   ]
  },
  {
   "cell_type": "code",
   "execution_count": 119,
   "metadata": {
    "collapsed": true
   },
   "outputs": [],
   "source": [
    "write(edu, 'edu-link.csv')"
   ]
  },
  {
   "cell_type": "code",
   "execution_count": 60,
   "metadata": {
    "collapsed": false,
    "scrolled": true
   },
   "outputs": [
    {
     "name": "stdout",
     "output_type": "stream",
     "text": [
      "title: Going Down Jericho Road: The Memphis Strike, Martin Luther King's Last Campaign\n",
      "author: Honey\n",
      "title: Black Workers Remember: An Oral History of Segregation, Unionism, and the Freedom Struggle\n",
      "author: Honey\n",
      "title: Southern Labor and Black Civil Rights: Organizing Memphis Workers\n",
      "author: Honey\n",
      "title: Rodeo Cowboys in the North American Imagination\n",
      "author: Allen\n",
      "title: Western Rivermen, 1763-1861: Ohio and Mississippi Boatmen and the Myth of the Alligator Horse\n",
      "author: Allen\n",
      "title: The Confederation Congress and the Creation of the American Trans-Appalachian Settlement Policy 1783-1787\n",
      "author: Allen\n",
      "title: Boxing in Black and White \n",
      "author: Bacho\n",
      "title: Cebu\n",
      "author: Bacho\n",
      "title: Dark Blue Suit: And Other Stories \n",
      "author: Bacho\n",
      "title: Nelson's Run\n",
      "author: Bacho\n",
      "title: Entrys\n",
      "author: Bacho\n",
      "title: Writing in the Real World: Making the Transition from School to Work\n",
      "author: Beaufort\n",
      "title: Wetlands Regulation: Case Law, Interpretation, and Commentary\n",
      "author: Braddock\n",
      "title: Washington Environmental Law Handbook\n",
      "author: Braddock\n",
      "title: Wetlands: An Introduction to Ecology, the Law, and Permitting\n",
      "author: Braddock\n",
      "title: Unraveling the Real: The Fantastic in Spanish-American Ficciones\n",
      "author: Duncan\n",
      "title: Rural Poverty in America\n",
      "author: Duncan\n",
      "title: Unheard Melodies: Narrative Film Music\n",
      "author: Gorbman\n",
      "title: The Water Supply System of Siena, Italy: The Medieval Roots of the Modern Networked City\n",
      "author: Kucher\n",
      "title: Good Friday\n",
      "author: Heldrich\n",
      "title: Out Here In The Out There: Essays In A Region Of Superlatives\n",
      "author: Heldrich\n",
      "title: The Four-Seven Debate: An Annotated Translation of the Most Famous Controversy in Korean Neo-Confucian Thought\n",
      "author: Kalton\n",
      "title: To Become a Sage: The Ten Diagrams on Sage Learning\n",
      "author: Yi\n",
      "title: Gender Differences in Human Cognition\n",
      "author: Richardson\n",
      "title: One Size Does Not Fit All\n",
      "author: Naidus\n",
      "title: A Matter of Discourse: Community and Communication in Contemporary Philosophies\n",
      "author: Nascimento\n",
      "title: Buildings of Nevada\n",
      "author: Nicoletta\n",
      "title: The Architecture of the Shakers\n",
      "author: Morgan\n",
      "title: Proofs that Really Count: The Art of Combinatorial Proof \n",
      "author: Quinn\n",
      "title: Idling the Engine: Linguistic Skepticism in And Around Cortazar, Kafka, And Joyce\n",
      "author: Sharkey\n",
      "title: Frontiers of Western History: The Origins, Evolution, and Future of Western History\n",
      "author: Allen\n",
      "title: History of Jazz: Lecture Notes, Overheads, Listening Examples\n",
      "author: Collier\n"
     ]
    }
   ],
   "source": [
    "ias = load_file('ias.csv')"
   ]
  },
  {
   "cell_type": "code",
   "execution_count": 65,
   "metadata": {
    "collapsed": true
   },
   "outputs": [],
   "source": [
    "for i in ias:\n",
    "    if i['title'] == \"Unraveling the Real: The Fantastic in Spanish-American Ficciones\":\n",
    "        i['library_location'] = i['library_location'].replace('LINK', 'http://alliance-primo.hosted.exlibrisgroup.com/UW:all:CP71110193760001451')\n",
    "    elif i['title'] == \"Rural Poverty in America\":\n",
    "        i['library_location'] = i['library_location'].replace('LINK', 'http://alliance-primo.hosted.exlibrisgroup.com/UW:all:CP71136538820001451')\n",
    "    elif i['title'] == \"Unheard Melodies: Narrative Film Music\":\n",
    "        i['library_location'] = i['library_location'].replace('LINK', 'http://alliance-primo.hosted.exlibrisgroup.com/UW:all:CP71116772290001451')\n",
    "    elif i['title'] == \"The Water Supply System of Siena, Italy: The Medieval Roots of the Modern Networked City\":\n",
    "        i['library_location'] = i['library_location'].replace('LINK', 'http://alliance-primo.hosted.exlibrisgroup.com/UW:all:CP71117665540001451')\n",
    "    elif i['title'] == \"Good Friday\":\n",
    "        i['library_location'] = i['library_location'].replace('LINK', 'http://alliance-primo.hosted.exlibrisgroup.com/UW:all:CP71176187590001451')\n",
    "    elif i['title'] == \"Out Here In The Out There: Essays In A Region Of Superlatives\":\n",
    "        i['library_location'] = i['library_location'].replace('LINK', 'http://alliance-primo.hosted.exlibrisgroup.com/UW:all:CP71108064040001451')\n",
    "    elif i['title'] == \"The Four-Seven Debate: An Annotated Translation of the Most Famous Controversy in Korean Neo-Confucian Thought\":\n",
    "        i['library_location'] = i['library_location'].replace('LINK', 'http://alliance-primo.hosted.exlibrisgroup.com/UW:all:CP71177120610001451')\n",
    "    elif i['title'] == \"To Become a Sage: The Ten Diagrams on Sage Learning\":\n",
    "        i['library_location'] = i['library_location'].replace('LINK', 'http://alliance-primo.hosted.exlibrisgroup.com/UW:all:CP71150934600001451')\n",
    "    elif i['title'] == \"Gender Differences in Human Cognition\":\n",
    "        i['library_location'] = i['library_location'].replace('LINK', 'http://alliance-primo.hosted.exlibrisgroup.com/UW:all:CP71140049050001451')\n",
    "    elif i['title'] == \"One Size Does Not Fit All\":\n",
    "        i['library_location'] = i['library_location'].replace('LINK', 'http://alliance-primo.hosted.exlibrisgroup.com/UW:all:CP71142804400001451')\n",
    "    elif i['title'] == \"A Matter of Discourse: Community and Communication in Contemporary Philosophies\":\n",
    "        i['library_location'] = i['library_location'].replace('LINK', 'http://alliance-primo.hosted.exlibrisgroup.com/UW:all:CP71103790880001451')\n",
    "    elif i['title'] == \"Buildings of Nevada\":\n",
    "        i['library_location'] = i['library_location'].replace('LINK', 'http://alliance-primo.hosted.exlibrisgroup.com/UW:all:CP71131239390001451')\n",
    "    elif i['title'] == \"The Architecture of the Shakers\":\n",
    "        i['library_location'] = i['library_location'].replace('LINK', 'http://alliance-primo.hosted.exlibrisgroup.com/UW:all:CP71103216160001451')\n",
    "    elif i['title'] == \"Proofs that Really Count: The Art of Combinatorial Proof \":\n",
    "        i['library_location'] = i['library_location'].replace('LINK', 'http://alliance-primo.hosted.exlibrisgroup.com/UW:all:CP71180863840001451')\n",
    "    elif i['title'] == \"Idling the Engine: Linguistic Skepticism in And Around Cortazar, Kafka, And Joyce\":\n",
    "        i['library_location'] = i['library_location'].replace('LINK', 'http://alliance-primo.hosted.exlibrisgroup.com/UW:all:CP71124900090001451')\n",
    "    elif i['title'] == \"Frontiers of Western History: The Origins, Evolution, and Future of Western History\":\n",
    "        i['library_location'] = i['library_location'].replace('LINK', 'http://alliance-primo.hosted.exlibrisgroup.com/UW:all:CP71180003570001451')\n",
    "    elif i['title'] == \"History of Jazz: Lecture Notes, Overheads, Listening Examples\":\n",
    "        i['library_location'] = i['library_location'].replace('LINK', 'http://alliance-primo.hosted.exlibrisgroup.com/UW:all:CP71109000650001451')\n",
    "    "
   ]
  },
  {
   "cell_type": "code",
   "execution_count": 68,
   "metadata": {
    "collapsed": false
   },
   "outputs": [],
   "source": [
    "for i in ias:\n",
    "    if i['title'] == \"Going Down Jericho Road: The Memphis Strike, Martin Luther King's Last Campaign\":\n",
    "        i['library_location'] = i['library_location'].replace('LINK', 'http://alliance-primo.hosted.exlibrisgroup.com/UW:all:CP7195663900001451')\n",
    "    elif i['title'] == \"Black Workers Remember: An Oral History of Segregation, Unionism, and the Freedom Struggle\":\n",
    "        i['library_location'] = i['library_location'].replace('LINK', 'http://alliance-primo.hosted.exlibrisgroup.com/UW:all:CP71129152600001451')\n",
    "    elif i['title'] == \"Southern Labor and Black Civil Rights: Organizing Memphis Workers\":\n",
    "        i['library_location'] = i['library_location'].replace('LINK', 'http://alliance-primo.hosted.exlibrisgroup.com/UW:all:CP7195317290001451')\n",
    "    elif i['title'] == \"Rodeo Cowboys in the North American Imagination\":\n",
    "        i['library_location'] = i['library_location'].replace('LINK', 'http://alliance-primo.hosted.exlibrisgroup.com/UW:all:CP71115042530001451')\n",
    "#         print(i['library_location'])\n",
    "    elif i['title'] == \"Western Rivermen, 1763-1861: Ohio and Mississippi Boatmen and the Myth of the Alligator Horse\":\n",
    "        i['library_location'] = i['library_location'].replace('LINK', 'http://alliance-primo.hosted.exlibrisgroup.com/UW:all:CP71120159190001451')\n",
    "    elif i['title'] == \"The Confederation Congress and the Creation of the American Trans-Appalachian Settlement Policy 1783-1787\":\n",
    "        i['library_location'] = i['library_location'].replace('LINK', 'http://alliance-primo.hosted.exlibrisgroup.com/UW:all:CP71115489050001451')\n",
    "#         print(i['library_location'])\n",
    "    elif i['title'] == \"Boxing in Black and White \":\n",
    "        i['library_location'] = i['library_location'].replace('LINK', 'http://alliance-primo.hosted.exlibrisgroup.com/UW:all:CP71118107430001451')\n",
    "#         print(i['library_location'])\n",
    "    elif i['title'] == \"Cebu\":\n",
    "        i['library_location'] = i['library_location'].replace('LINK', 'http://alliance-primo.hosted.exlibrisgroup.com/UW:all:CP71151767540001451')\n",
    "#         print(i['library_location'])\n",
    "    elif i['title'] == \"Dark Blue Suit: And Other Stories \":\n",
    "        i['library_location'] = i['library_location'].replace('LINK', 'http://alliance-primo.hosted.exlibrisgroup.com/UW:all:CP71158541790001451')\n",
    "#         print(i['library_location'])\n",
    "    elif i['title'] == \"Nelson's Run\":\n",
    "        i['library_location'] = i['library_location'].replace('LINK', 'http://alliance-primo.hosted.exlibrisgroup.com/UW:all:CP7195732960001451')\n",
    "#         print(i['library_location'])\n",
    "    elif i['title'] == \"Entrys\":\n",
    "        i['library_location'] = i['library_location'].replace('LINK', 'http://alliance-primo.hosted.exlibrisgroup.com/UW:all:CP71139331680001451')\n",
    "#         print(i['library_location'])\n",
    "    elif i['title'] == \"Writing in the Real World: Making the Transition from School to Work\":\n",
    "        i['library_location'] = i['library_location'].replace('LINK', 'http://alliance-primo.hosted.exlibrisgroup.com/UW:all:CP71158205480001451')\n",
    "#         print(i['library_location'])\n",
    "    elif i['title'] == \"Wetlands Regulation: Case Law, Interpretation, and Commentary\":\n",
    "        i['library_location'] = i['library_location'].replace('LINK', 'http://alliance-primo.hosted.exlibrisgroup.com/UW:all:CP71137346390001451')\n",
    "#         print(i['library_location'])\n",
    "    elif i['title'] == \"Washington Environmental Law Handbook\":\n",
    "        i['library_location'] = i['library_location'].replace('LINK', 'http://alliance-primo.hosted.exlibrisgroup.com/UW:all:CP71174990170001451')\n",
    "#         print(i['library_location'])\n",
    "    elif i['title'] == \"Wetlands: An Introduction to Ecology, the Law, and Permitting\":\n",
    "        i['library_location'] = i['library_location'].replace('LINK', 'http://alliance-primo.hosted.exlibrisgroup.com/UW:all:CP7194766670001451')\n",
    "#         print(i['library_location'])"
   ]
  },
  {
   "cell_type": "code",
   "execution_count": 69,
   "metadata": {
    "collapsed": false
   },
   "outputs": [
    {
     "data": {
      "text/plain": [
       "[]"
      ]
     },
     "execution_count": 69,
     "metadata": {},
     "output_type": "execute_result"
    }
   ],
   "source": [
    "[(i['title'], i['library_location']) for i in ias if 'LINK' in i['library_location']]"
   ]
  },
  {
   "cell_type": "code",
   "execution_count": 71,
   "metadata": {
    "collapsed": false
   },
   "outputs": [],
   "source": [
    "write(ias, 'ias-link.csv')"
   ]
  },
  {
   "cell_type": "code",
   "execution_count": null,
   "metadata": {
    "collapsed": true
   },
   "outputs": [],
   "source": [
    "for i in urban:\n",
    "    if i['title'] == \"\":\n",
    "        i['library_location'] = i['library_location'].replace('LINK', '')\n",
    "    elif i['title'] == \"\":\n",
    "        i['library_location'] = i['library_location'].replace('LINK', '')"
   ]
  },
  {
   "cell_type": "code",
   "execution_count": null,
   "metadata": {
    "collapsed": true
   },
   "outputs": [],
   "source": [
    "'<p><a href=\"'+LINK+'\"><strong>Print copy in '+LOC+' - '+CALLNUM+'</strong></a></p>'"
   ]
  }
 ],
 "metadata": {
  "anaconda-cloud": {},
  "kernelspec": {
   "display_name": "Python [default]",
   "language": "python",
   "name": "python3"
  },
  "language_info": {
   "codemirror_mode": {
    "name": "ipython",
    "version": 3
   },
   "file_extension": ".py",
   "mimetype": "text/x-python",
   "name": "python",
   "nbconvert_exporter": "python",
   "pygments_lexer": "ipython3",
   "version": "3.5.2"
  }
 },
 "nbformat": 4,
 "nbformat_minor": 1
}
