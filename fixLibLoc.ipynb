{
 "cells": [
  {
   "cell_type": "code",
   "execution_count": 1,
   "metadata": {
    "collapsed": true
   },
   "outputs": [],
   "source": [
    "import re\n",
    "import csv"
   ]
  },
  {
   "cell_type": "code",
   "execution_count": 37,
   "metadata": {
    "collapsed": true
   },
   "outputs": [],
   "source": [
    "def extract_libloc_urban(row):\n",
    "    if row['comments'] != '':\n",
    "        LOC_CALL = row['comments'][10:]\n",
    "#     comlist = row['comments'].split(' - ')\n",
    "#     if len(comlist) > 1:\n",
    "#         CALLNUM = comlist[1]\n",
    "#         LOC = comlist[0][10:]\n",
    "#     else:\n",
    "#         LOC = comlist[0]\n",
    "#         CALLNUM = 'CALLNUM'\n",
    "        LINK = 'LINK'\n",
    "        libloc = '<p><a href=\"'+LINK+'\"><strong>Print copy in '+LOC_CALL+'</strong></a></p>'\n",
    "    else:\n",
    "        libloc = ''\n",
    "    return libloc"
   ]
  },
  {
   "cell_type": "code",
   "execution_count": 36,
   "metadata": {
    "collapsed": true
   },
   "outputs": [],
   "source": [
    "def load_file(filename):\n",
    "    # open the Zotero export as a file object (note the utf-8 encoding to properly read the text encoding of the zotero output)\n",
    "    with open(filename, 'r', encoding='utf-8') as file:\n",
    "        # create empty array to hold each entry as a dict\n",
    "        data = []\n",
    "        # create a csv-reader object\n",
    "        reader = csv.DictReader(file)\n",
    "        # loop through each row in the csv-reader object...\n",
    "        for row in reader:\n",
    "            row['library_location'] = extract_libloc_urban(row)\n",
    "            row['comments'] = ''\n",
    "            data.append(row)\n",
    "    return data"
   ]
  },
  {
   "cell_type": "code",
   "execution_count": 38,
   "metadata": {
    "collapsed": false
   },
   "outputs": [
    {
     "name": "stdout",
     "output_type": "stream",
     "text": [
      "['<p><a href=\"LINK\"><strong>Print copy in Suzzallo and Allen Libraries Stacks - HD9999.I492 K46 2006</strong></a></p>', '<p><a href=\"LINK\"><strong>Print copy in UW Tacoma Library Stacks - HT388 .N475 2005 </strong></a></p>', '<p><a href=\"LINK\"><strong>Print copy in UW Tacoma Library Faculty Publications - HT241 .B66 2006   </strong></a></p>', '<p><a href=\"LINK\"><strong>Print copy in UW Tacoma Library Faculty Publications - HD8038.A3 H645 2010</strong></a></p>', '<p><a href=\"LINK\"><strong>Print copy in UW Tacoma Library Faculty Publications - HT384.U6 D54 2008 </strong></a></p>', '<p><a href=\"LINK\"><strong>Print copy in Suzzallo and Allen Libraries Stacks - HC110.D5 H36 1995</strong></a></p>', '<p><a href=\"LINK\"><strong>Print copy in Suzzallo and Allen Libraries Stacks - HD9987.A2 S475 2007</strong></a></p>', '<p><a href=\"LINK\"><strong>Print copy in Suzzallo and Allen Libraries Stacks - G70 .G445 2004</strong></a></p>', '<p><a href=\"LINK\"><strong>Print copy in \\nOdegaard Undergraduate Library Stacks - G116 .R43 1997</strong></a></p>', '<p><a href=\"LINK\"><strong>Print copy in Suzzallo and Allen Libraries Stacks - NA9248.Y39 M63 2006</strong></a></p>', '', '']\n"
     ]
    }
   ],
   "source": [
    "# csvfile = load_file('bus.csv')\n",
    "urban = load_file('urban.csv')\n",
    "# print([i['library_location'] for i in csvfile])\n",
    "print([i['library_location'] for i in urban])"
   ]
  },
  {
   "cell_type": "code",
   "execution_count": null,
   "metadata": {
    "collapsed": true
   },
   "outputs": [],
   "source": [
    "'<p><a href=\"'+LINK+'\"><strong>Print copy in '+LOC+' - '+CALLNUM+'</strong></a></p>'"
   ]
  },
  {
   "cell_type": "code",
   "execution_count": 34,
   "metadata": {
    "collapsed": true
   },
   "outputs": [],
   "source": [
    "edu = load_file('edu.csv')"
   ]
  },
  {
   "cell_type": "code",
   "execution_count": 35,
   "metadata": {
    "collapsed": false
   },
   "outputs": [
    {
     "name": "stdout",
     "output_type": "stream",
     "text": [
      "['<p><a href=\"LINK\"><strong>Print copy in UW Tacoma Library Stacks - QA13 .A38 2013</strong></a></p>', '<p><a href=\"LINK\"><strong>Print copy in Suzzallo and Allen Libraries Stacks - LC4802 .N45 2008</strong></a></p>', '', '', '', '', '', '<p><a href=\"LINK\"><strong>Print copy in UW Tacoma Library Stacks - LC212.2 .K57 2006</strong></a></p>', '<p><a href=\"LINK\"><strong>Print copy in UW Tacoma Library Children\\'s Lit - PL1115 .L67 2009</strong></a></p>', '<p><a href=\"LINK\"><strong>Print copy in Suzzallo and Allen Libraries Stacks - PL1115 .L68 2007</strong></a></p>', '<p><a href=\"LINK\"><strong>Print copy in n: UW Tacoma Library Faculty Publications - BF637.H4 B7 2003</p></strong></a></p>', '<p><a href=\"LINK\"><strong>Print copy in UW Tacoma Library Stacks - Q223 .W45 2010</strong></a></p>', '<p><a href=\"LINK\"><strong>Print copy in UW Tacoma Library Faculty Publications - Q105.A1 W45 1998</strong></a></p>', '<p><a href=\"LINK\"><strong>Print copy in UW Tacoma Library Stacks - LB1573 .S74 1993</strong></a></p>', '', '', '', '']\n"
     ]
    }
   ],
   "source": [
    "print([i['library_location'] for i in edu])"
   ]
  },
  {
   "cell_type": "code",
   "execution_count": 87,
   "metadata": {
    "collapsed": true
   },
   "outputs": [],
   "source": [
    "def extract_libloc_ias(row):\n",
    "    if row['library_location'] != '' and 'Print copy' not in row['library_location']:\n",
    "        libloc = row['library_location'].replace('Location:', 'Print copy in')\n",
    "#     elif 'RC552.E18' in row['library_location']:\n",
    "#         print(row['library_location'])\n",
    "#         libloc = row['library_location'].replace('UW Tacoma', 'Print copy in UW Tacoma')\n",
    "    elif row['library_location'] == '' and row['comments'] != '' and row['source_fulltext_url'] == '':\n",
    "        LOC_CALL = row['comments'][10:]\n",
    "        LINK = 'LINK'\n",
    "        libloc = '<p><a href=\"'+LINK+'\"><strong>Print copy in '+LOC_CALL+'</strong></a></p>'\n",
    "    elif row['library_location'] == '' and row['comments'] != '' and row['source_fulltext_url'] != '':\n",
    "        LOC_CALL = row['comments'][10:]\n",
    "        LINK = row['source_fulltext_url']\n",
    "        libloc = '<p><a href=\"'+LINK+'\"><strong>Print copy in '+LOC_CALL+'</strong></a></p>'\n",
    "    else:\n",
    "        libloc = row['library_location']\n",
    "    return libloc"
   ]
  },
  {
   "cell_type": "code",
   "execution_count": 88,
   "metadata": {
    "collapsed": true
   },
   "outputs": [],
   "source": [
    "def load_file(filename):\n",
    "    # open the Zotero export as a file object (note the utf-8 encoding to properly read the text encoding of the zotero output)\n",
    "    with open(filename, 'r', encoding='utf-8') as file:\n",
    "        # create empty array to hold each entry as a dict\n",
    "        data = []\n",
    "        # create a csv-reader object\n",
    "        reader = csv.DictReader(file)\n",
    "        # loop through each row in the csv-reader object...\n",
    "        for row in reader:\n",
    "            row['library_location'] = extract_libloc_ias(row)\n",
    "            row['comments'] = ''\n",
    "            data.append(row)\n",
    "    return data"
   ]
  },
  {
   "cell_type": "code",
   "execution_count": 89,
   "metadata": {
    "collapsed": true
   },
   "outputs": [],
   "source": [
    "ias = load_file('ias.csv')"
   ]
  },
  {
   "cell_type": "code",
   "execution_count": 80,
   "metadata": {
    "collapsed": false
   },
   "outputs": [
    {
     "data": {
      "text/plain": [
       "['<p><a href=\"http://alliance-primo.hosted.exlibrisgroup.com/UW:all:CP71124282720001451\"><strong>Print copy in UW Tacoma Library Faculty Publications - LA217.2 .B33 2012</strong></a></p>',\n",
       " '<p><a href=\"LINK\"><strong>Print copy in UW Tacoma Library Faculty Publications - HD5325.S2572 1968 M465 2007</strong></a></p>',\n",
       " '<p><a href=\"LINK\"><strong>Print copy in \\nUW Tacoma Library Stacks - HD8081.A65 H66 1999</strong></a></p>',\n",
       " '<p><a href=\"LINK\"><strong>Print copy in \\nUW Tacoma Library Stacks - HD6519.M45 H66 1993</strong></a></p>',\n",
       " '<p><a href=\"http://alliance-primo.hosted.exlibrisgroup.com/UW:all:CP71145192460001451\"><strong>Print copy in UW Tacoma Library Faculty Publications - Call Number: HD6971.8 .K56 2011</strong></a></p>',\n",
       " '<p><a href=\"http://alliance-primo.hosted.exlibrisgroup.com/UW:all:CP71153273370001451\"><strong>Print copy in UW Tacoma Faculty Publications - F459.L89 N427 2010 </strong></a></p>',\n",
       " '<p><a href=\"LINK\"><strong>Print copy in UW Tacoma Library Faculty Publications - GV1834 .A55 1998</strong></a></p>',\n",
       " '<p><a href=\"http://alliance-primo.hosted.exlibrisgroup.com/UW:all:CP71140789770001451\"><strong>Print copy in UW Tacoma Faculty Publications - E178.1 .S3795 2004  </strong></a></p>',\n",
       " '<p><a href=\"LINK\"><strong>Print copy in UW Tacoma Library Faculty Publications - F517 .A39 1990 </strong></a></p>',\n",
       " '<p><a href=\"http://alliance-primo.hosted.exlibrisgroup.com/UW:all:CP71101411280001451\"><strong>Print copy in UW Tacoma Library Faculty Publications - Call Number: E173 .P36 2011</strong></a></p>',\n",
       " '<p><a href=\"LINK\"><strong>Print copy in n: UW Tacoma Library Stacks - E309 .A45 2006</p></strong></a></p>',\n",
       " '<p><a href=\"LINK\"><strong>Print copy in UW Tacoma Library Stacks - GV1121 .B23 1999</strong></a></p>',\n",
       " '<p><a href=\"LINK\"><strong>Print copy in UW Tacoma Library Faculty Publications - PS3552.A2573 C4 1991</strong></a></p>',\n",
       " '<p><a href=\"LINK\"><strong>Print copy in UW Tacoma Library Stacks - PS3552.A2573 D3 1997 </strong></a></p>',\n",
       " '<p><a href=\"LINK\"><strong>Print copy in UW Tacoma Library Stacks - PS3552.A2573 N45 2002</strong></a></p>',\n",
       " '<p><a href=\"http://alliance-primo.hosted.exlibrisgroup.com/UW:all:CP71167204140001451\"><strong>Print copy in UW Tacoma Library Faculty Publications - PS3552.A2573 L43 2010 </strong></a></p>',\n",
       " '<p><a href=\"LINK\"><strong>Print copy in UW Tacoma Library Faculty Publications - PS3552.A2573 E58 2005 </strong></a></p>',\n",
       " '<p><a href=\"http://alliance-primo.hosted.exlibrisgroup.com/UW:all:CP71147469140001451\"><strong>Print copy in UW Tacoma Library Faculty Publications - PE1404 .B37 2007. </strong></a></p>',\n",
       " '<p><a href=\"LINK\"><strong>Print copy in UW Tacoma Library Faculty Publications - PE1479.B87 B42 1999. </strong></a></p>',\n",
       " '<p><a href=\"LINK\"><strong>Print copy in Gallagher Law Library Classified Stacks - KF5624 .F69 2003</strong></a></p>',\n",
       " '<p><a href=\"LINK\"><strong>Print copy in UW Tacoma Library Reference - KFW354 .W37 2006 </strong></a></p>',\n",
       " '<p><a href=\"http://alliance-primo.hosted.exlibrisgroup.com/UW:all:CP7194766670001451\"><strong>Print copy in Tacoma Faculty Publications - KF5624 .B73 2007</strong></a></p>',\n",
       " '<p><a href=\"LINK\"><strong>Print copy in Suzzallo and Allen Libraries Stacks - KF5624 .B73 1995</strong></a></p>',\n",
       " '<p><a href=\"http://alliance-primo.hosted.exlibrisgroup.com/UW:all:CP71143073800001451\"><strong>Print copy in Suzzallo and Allen Libraries Special Collections Pacific NW - HD6509.V4 B769 2008</strong></a></p>',\n",
       " '<p><a href=\"http://alliance-primo.hosted.exlibrisgroup.com/UW:all:CP71190940950001451\"><strong>Print copy in UW Tacoma Library Faculty Publications - Call Number: PN1995.9.S74 C66 2014</strong></a></p>',\n",
       " '<p><a href=\"http://alliance-primo.hosted.exlibrisgroup.com/UW:all:CP71135995060001451\"><strong>Print copy in UW Tacoma Library Faculty Publications - Call Number: KF4770 .D48 2009</strong></a></p>',\n",
       " '<p><a href=\"http://alliance-primo.hosted.exlibrisgroup.com/UW:all:CP71121777870001451\"><strong>Print copy in UW Tacoma Library Faculty Publications - TL235.6 .H86 2007</strong></a></p>',\n",
       " '<p><a href=\"LINK\"><strong>Print copy in Suzzallo and Allen Libraries Stacks - PQ7082.F35 D86 2010</strong></a></p>',\n",
       " '<p><a href=\"LINK\"><strong>Print copy in n: UW Tacoma Library Stacks - HC110.P6 D86 1999</p></strong></a></p>',\n",
       " '<p><a href=\"LINK\"><strong>Print copy in Odegaard Undergraduate Library Stacks - HC110.P6 R89 1992</strong></a></p>',\n",
       " '<p><a href=\"http://alliance-primo.hosted.exlibrisgroup.com/UW:all:CP71149616570001451\"><strong>Print copy in UW Tacoma Library Faculty Publications - JC311 .F564 1998 </strong></a></p>',\n",
       " '<p><a href=\"http://alliance-primo.hosted.exlibrisgroup.com/UW:all:CP71150371150001451\"><strong>Print copy in UW Tacoma Library Faculty Publications - Call Number: BF371 .F64 2013 </strong></a></p>',\n",
       " '<p><a href=\"LINK\"><strong>Print copy in UW Tacoma Library Stacks - ML2075 .G67 1987  </strong></a></p>',\n",
       " '<p><a href=\"http://alliance-primo.hosted.exlibrisgroup.com/UW:all:CP71140717350001451\"><strong>Print copy in UW Tacoma Library Faculty Publications - Call Number: JZ1308 .N355 2013</strong></a></p>',\n",
       " '<p><a href=\"http://alliance-primo.hosted.exlibrisgroup.com/UW:all:CP71193531200001451\"><strong>Print copy in UW Tacoma Library Faculty Publications - Call Number: P93.4 .O94 2013</strong></a></p>',\n",
       " '<p><a href=\"http://alliance-primo.hosted.exlibrisgroup.com/UW:all:CP71103958180001451\"><strong>Print copy in Suzzallo and Allen Libraries Stacks - PN1995.7 C4513 2009 </strong></a></p>',\n",
       " '<p><a href=\"http://alliance-primo.hosted.exlibrisgroup.com/UW:all:CP71175663990001451\"><strong>Print copy in UW Tacoma Library Faculty Publications - JC599.J3 H37 2007</strong></a></p>',\n",
       " '<p><a href=\"LINK\"><strong>Print copy in n: UW Tacoma Library Faculty Publications - TD280.S54 K83 2005</p></strong></a></p>',\n",
       " '<p><a href=\"LINK\"><strong>Print copy in UW Tacoma Library Faculty Publications - PS3558.E474 G6 2000  </strong></a></p>',\n",
       " '<p><a href=\"LINK\"><strong>Print copy in UW Tacoma Library Faculty Publications - PS3558.E474 Z47 2005 </strong></a></p>',\n",
       " '<p><a href=\"LINK\"><strong>Print copy in UW Tacoma Faculty Publications - E184.F4 I37 2005</strong></a></p>',\n",
       " '<p><a href=\"LINK\"><strong>Print copy in UW Tacoma Library Faculty Publications - B5253.F68 K35 1994</strong></a></p>',\n",
       " '<p><a href=\"LINK\"><strong>Print copy in n: UW Tacoma Library Faculty Publications - B5254.Y483 S663813 1988</p><p>Translated, Edited, and Commentaries by Michael C. Kalton</p></strong></a></p>',\n",
       " '<p><a href=\"http://alliance-primo.hosted.exlibrisgroup.com/UW:all:CP71143884190001451\"><strong>Print copy in UW Tacoma Library Faculty Publications - KZ3678 .K39 2010 </strong></a></p>',\n",
       " '<p><a href=\"LINK\"><strong>Print copy in n: UW Tacoma Library Faculty Publications - PN1993.5.U6 K86 2007</p><p>Series: Critical Media Studies: Institutions, Politics, and Culture</p></strong></a></p>',\n",
       " '<p><a href=\"LINK\"><strong>Print copy in UW Tacoma Library Faculty Publications - BF311 .G445 1997  </strong></a></p>',\n",
       " '<p><a href=\"LINK\"><strong>Print copy in n: UW Tacoma Library Faculty Publications - P96.I5 M359 2007</p></strong></a></p>',\n",
       " '<p><a href=\"http://alliance-primo.hosted.exlibrisgroup.com/UW:all:CP71167930650001451\"><strong>Print copy in UW Tacoma Faculty Publications - HQ799.2.M35 M376 2009 </strong></a></p>',\n",
       " '<p><a href=\"LINK\"><strong>Print copy in UW Tacoma Library Faculty Publications - WD 212 N155o 1993</strong></a></p>',\n",
       " '<p><a href=\"http://alliance-primo.hosted.exlibrisgroup.com/UW:all:CP71162356460001451\"><strong>Print copy in UW Tacoma Library Faculty Publications - N345 .N25 2009</strong></a></p>',\n",
       " '<p><a href=\"LINK\"><strong>Print copy in n: UW Tacoma Library Faculty Publications - BJ1012 .M368 1998</p><p>Series: Avebury Series in Philosophy</p></strong></a></p>',\n",
       " '<p><a href=\"http://alliance-primo.hosted.exlibrisgroup.com/UW:all:CP71197186640001451\"><strong>Print copy in UW Tacoma Library Faculty Publications - Call Number: JZ1308 .N355 2013</strong></a></p>',\n",
       " '<p><a href=\"http://alliance-primo.hosted.exlibrisgroup.com/UW:all:CP71204429040001451\"><strong>Print copy in UW Tacoma Library Faculty Publications - Call Number: JC571 .L88 2014</strong></a></p>',\n",
       " '<p><a href=\"LINK\"><strong>Print copy in n: UW Tacoma Library Faculty Publications - NA730.N3 N53 2000</p><p>Series: Buildings of the United States</p></strong></a></p>',\n",
       " '<p><a href=\"LINK\"><strong>Print copy in UW Tacoma Library Faculty Publications - NA710 .N53 1995</strong></a></p>',\n",
       " '<p><a href=\"http://alliance-primo.hosted.exlibrisgroup.com/UW:all:CP71112635430001451\"><strong>Print copy in UW Tacoma Faculty Publications - ND237.F353 A4 2008 </strong></a></p>',\n",
       " '<p><a href=\"LINK\"><strong>Print copy in n: UW Tacoma Library Stacks - QA164.8 .B46 2003</p><p>Series: Dolciani Mathematical Expositions</p></strong></a></p>',\n",
       " '<p><a href=\"http://alliance-primo.hosted.exlibrisgroup.com/UW:all:CP71197186640001451\"><strong>Print copy in UW Tacoma Library Faculty Publications - Call Number: NK5198.T33 A4 2012</strong></a></p>',\n",
       " '<p><a href=\"http://alliance-primo.hosted.exlibrisgroup.com/UW:all:CP71189579530001451\"><strong>Print copy in UW Tacoma Library Faculty Publications - Call Number: HV6432 .A77 2013</strong></a></p>',\n",
       " '<p><a href=\"LINK\"><strong>Print copy in n: UW Tacoma Library Faculty Publications - HV6250.4.W65 V5677 2002</p></strong></a></p>',\n",
       " '<p><a href=\"LINK\"><strong>Print copy in UW Tacoma Library Faculty Publications - PN3503 .S483 2006</strong></a></p>',\n",
       " '<p><a href=\"LINK\"><strong>Print copy in UW Tacoma Library Faculty Publications - F591 .F76 1999</strong></a></p>',\n",
       " '<p><a href=\"LINK\"><strong>Print copy in Odegaard Undergraduate Library Stacks - MT10 .C63 2012</strong></a></p>',\n",
       " '<p><a href=\"http://alliance-primo.hosted.exlibrisgroup.com/UW:all:CP71229939820001451\"><strong>UW Tacoma Faculty Publications - RC552.E18 C36 2015</strong></p></a>',\n",
       " '<p><a href=\"http://alliance-primo.hosted.exlibrisgroup.com/UW:all:CP71211270670001451\"><strong>Print copy in UW Tacoma Library Faculty Publications - Call Number: P94.5.W65 D55 2014</strong></a></p>',\n",
       " '<p><a href=\"http://alliance-primo.hosted.exlibrisgroup.com/UW:all:CP71122771180001451\"><strong>Print copy in Suzzallo and Allen Libraries Government Publications International Stacks - WBG H88 H641</strong></a></p>',\n",
       " '<p><a href=\"http://alliance-primo.hosted.exlibrisgroup.com/UW:all:CP71231391640001451\"><strong>Print copy in UW Tacoma Library Local History - NA6830 .D38 2015</strong></a></p>',\n",
       " '<p><a href=\"http://alliance-primo.hosted.exlibrisgroup.com/UW:all:CP71160123680001451\"><strong>Print copy in UW Tacoma Library Faculty Publications - PR1120 .C85 1999</strong></a></p>',\n",
       " '<p><a href=\"http://alliance-primo.hosted.exlibrisgroup.com/UW:all:CP7195813890001451\"><strong>Print copy in UW Tacoma Library Faculty Publications - PR275.R4 B37 1995</strong></a></p>',\n",
       " '<p><a href=\"http://alliance-primo.hosted.exlibrisgroup.com/UW:all:CP71143475210001451\"><strong>Print copy in Summit libraries</strong></a></p>',\n",
       " '<p><a href=\"http://alliance-primo.hosted.exlibrisgroup.com/UW:all:CP71113093490001451\"><strong>Print copy in Summit libraries</strong></a></p>',\n",
       " '<p><a href=\"http://alliance-primo.hosted.exlibrisgroup.com/UW:all:CP71110931300001451\"><strong>Print copy in Summit libraries</strong></a></p>',\n",
       " '<p><a href=\"http://alliance-primo.hosted.exlibrisgroup.com/UW:all:CP71109567750001451\"><strong>Print copy in Suzzallo and Allen Libraries - Stacks - BX4700.B6 S24 2001</strong></a></p>',\n",
       " '<p><a href=\"http://alliance-primo.hosted.exlibrisgroup.com/UW:all:CP71106103240001451\"><strong>Print copy in Suzzallo and Allen Libraries - Stacks - PR2136 .M35 2004</strong></a></p>',\n",
       " '<p><a href=\"http://alliance-primo.hosted.exlibrisgroup.com/UW:all:CP71130626740001451\"><strong>Print copy in Suzzallo and Allen Libraries - Stacks - PR275.M9 H47 2004</strong></a></p>',\n",
       " '<p><a href=\"http://alliance-primo.hosted.exlibrisgroup.com/UW:all:CP71109531330001451\"><strong>Print copy in Summit libraries</strong></a></p>',\n",
       " '<p><a href=\"http://alliance-primo.hosted.exlibrisgroup.com/UW:all:CP71247043570001451\"><strong>Print copy in UW Tacoma Library Faculty Publications - KZ6369 .B78 2016</strong></a></p>',\n",
       " '<p><a href=\"http://alliance-primo.hosted.exlibrisgroup.com/UW:all:CP71241608630001451\"><strong>Print copy in UW Tacoma Library Faculty Publications - LC93.G7 S86 2015</strong></a></p>',\n",
       " '<p><a href=\"http://alliance-primo.hosted.exlibrisgroup.com/UW:all:CP71251702220001451\"><strong>Print copy in Odegaard Undergraduate Library Stacks - GT2855 .F658 2017</strong></a></p>',\n",
       " '<p><a href=\"http://alliance-primo.hosted.exlibrisgroup.com/UW:all:CP71249059620001451\"><strong>Print copy in UW Tacoma Library Faculty Publications - PS3613.I53853 A6 2016</strong></a></p>']"
      ]
     },
     "execution_count": 80,
     "metadata": {},
     "output_type": "execute_result"
    }
   ],
   "source": [
    "[i['library_location'] for i in ias if i['library_location'] != '']"
   ]
  },
  {
   "cell_type": "code",
   "execution_count": 90,
   "metadata": {
    "collapsed": true
   },
   "outputs": [],
   "source": [
    "def write(data, output):\n",
    "    fieldnames = data[0].keys()\n",
    "    with open(output, 'w', newline='',encoding='utf-8-sig') as output_file:\n",
    "        dict_writer = csv.DictWriter(output_file, fieldnames=fieldnames)\n",
    "        dict_writer.writeheader()\n",
    "        dict_writer.writerows(data)"
   ]
  },
  {
   "cell_type": "code",
   "execution_count": 91,
   "metadata": {
    "collapsed": false
   },
   "outputs": [],
   "source": [
    "write(ias, 'ias-link.csv')"
   ]
  },
  {
   "cell_type": "code",
   "execution_count": null,
   "metadata": {
    "collapsed": true
   },
   "outputs": [],
   "source": []
  }
 ],
 "metadata": {
  "anaconda-cloud": {},
  "kernelspec": {
   "display_name": "Python [default]",
   "language": "python",
   "name": "python3"
  },
  "language_info": {
   "codemirror_mode": {
    "name": "ipython",
    "version": 3
   },
   "file_extension": ".py",
   "mimetype": "text/x-python",
   "name": "python",
   "nbconvert_exporter": "python",
   "pygments_lexer": "ipython3",
   "version": "3.5.2"
  }
 },
 "nbformat": 4,
 "nbformat_minor": 1
}
