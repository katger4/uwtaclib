{
 "cells": [
  {
   "cell_type": "code",
   "execution_count": 2,
   "metadata": {
    "collapsed": true
   },
   "outputs": [],
   "source": [
    "import requests\n",
    "from bs4 import BeautifulSoup\n",
    "import re\n",
    "import csv"
   ]
  },
  {
   "cell_type": "code",
   "execution_count": 3,
   "metadata": {
    "collapsed": false
   },
   "outputs": [],
   "source": [
    "# https://www.dataquest.io/blog/web-scraping-tutorial-python/\n",
    "def get_titles(weblink):\n",
    "\tpage = requests.get(weblink)\n",
    "\tsoup = BeautifulSoup(page.content, 'html.parser')\n",
    "\ttitle_items = soup.select('h4.artifact-title a')\n",
    "\ttitle_names = [i.get_text() for i in title_items]\n",
    "\treturn title_names\n",
    "\n",
    "p1titles = get_titles(\"https://digital.lib.washington.edu/researchworks/handle/1773/20063/browse?rpp=20&sort_by=2&type=dateissued&offset=0&etal=-1&order=ASC\")\n",
    "p2titles = get_titles(\"https://digital.lib.washington.edu/researchworks/handle/1773/20063/browse?rpp=20&sort_by=2&type=dateissued&offset=20&etal=-1&order=ASC\")\n",
    "\n",
    "web_titles = p1titles + p2titles\n"
   ]
  },
  {
   "cell_type": "code",
   "execution_count": 4,
   "metadata": {
    "collapsed": true
   },
   "outputs": [],
   "source": [
    "def get_alpha_titles(titleslist):\n",
    "\talpha_t = []\n",
    "\tfor i in titleslist:\n",
    "\t\tstrlist = re.findall(r\"[\\w']+\", i)\n",
    "\t\tstrwt = ' '.join(strlist)\n",
    "\t\talpha_t.append(strwt)\n",
    "\treturn alpha_t"
   ]
  },
  {
   "cell_type": "code",
   "execution_count": 5,
   "metadata": {
    "collapsed": true
   },
   "outputs": [],
   "source": [
    "def load_csv_titles(filename):\n",
    "\twith open(filename, 'r', encoding='utf-8') as file:\n",
    "\t\t# create empty array to hold each entry as a dict\n",
    "\t\tdata = []\n",
    "\t\t# create a csv-reader object\n",
    "\t\treader = csv.DictReader(file)\n",
    "\t\t# loop through each row in the csv-reader object...\n",
    "\t\tfor row in reader:\n",
    "\t\t\tdata.append(row['title'])\n",
    "\treturn data\n"
   ]
  },
  {
   "cell_type": "code",
   "execution_count": 6,
   "metadata": {
    "collapsed": true
   },
   "outputs": [],
   "source": [
    "\n",
    "csv_titles = load_csv_titles('./data/mais.csv')\n",
    "\n",
    "alpha_wt = get_alpha_titles(web_titles)\n",
    "alpha_ct = get_alpha_titles(csv_titles)\n",
    "\n",
    "missing_titles = []\n",
    "for i in alpha_wt:\n",
    "\tif i not in alpha_ct:\n",
    "\t\tmissing_titles.append(i)"
   ]
  },
  {
   "cell_type": "code",
   "execution_count": 10,
   "metadata": {
    "collapsed": false
   },
   "outputs": [
    {
     "data": {
      "text/plain": [
       "[\"Modernizing the Greek Tragedy Clint Eastwood's Impact on the Western\",\n",
       " 'The War With No End Sentencing Disparities in the War on Drugs and National Trends that are Defining a Nation',\n",
       " 'Building Sustainable Behavior through Social Marketing Encouraging Reusable Shopping Bag Use at Stadium Thriftway in Tacoma WA A Case Study',\n",
       " 'David and Goliath Individualism and Liberty in the Italian Renaissance and the American Revolution',\n",
       " 'Master of Interdisaplinary Studies',\n",
       " 'Sexual Violence in a Native American Community Native American Women Speak Out',\n",
       " 'These are the Ghettos of Washington Public Housing and Neoliberalization in Tacoma WA',\n",
       " \"Critical reflections on and in the field The Study of Religion' and the methodology of true reflexive praxis in Puerto Rico\",\n",
       " 'Digital Activism How Social Media Prevalence has Impacted Modern Activism',\n",
       " 'HIVAIDS Social Stigma and Visual Art']"
      ]
     },
     "execution_count": 10,
     "metadata": {},
     "output_type": "execute_result"
    }
   ],
   "source": [
    "missing_titles"
   ]
  },
  {
   "cell_type": "code",
   "execution_count": 20,
   "metadata": {
    "collapsed": true
   },
   "outputs": [],
   "source": [
    "def get_web_info(weblink):\n",
    "\tpage = requests.get(weblink)\n",
    "\tsoup = BeautifulSoup(page.content, 'html.parser')\n",
    "\t\n",
    "\ttitle_items = soup.select('h4.artifact-title a')\n",
    "\ttitle_names = [i.get_text() for i in title_items]\n",
    "\talpha_titles = get_alpha_titles(title_names)\n",
    "\t\n",
    "\tlink_items = soup.select('h4.artifact-title a[href]')\n",
    "\tlink_text = [i['href'] for i in link_items]\n",
    "\tfull_link_text = ['https://digital.lib.washington.edu'+i+'?show=full' for i in link_text]\n",
    "\n",
    "\tau_items = soup.select('div.artifact-info')\n",
    "\tau_text = [i.get_text() for i in au_items]\n",
    "\talphanum_au = get_alpha_titles(au_text)\n",
    "\taulist_list = [re.findall('[%A-Za-z]+', i) for i in alphanum_au]\n",
    "\n",
    "\tkeys = ['title','link','author']\n",
    "\tvalues = list(zip(alpha_titles,full_link_text,aulist_list))\n",
    "\tweb_info = [dict(zip(keys, v)) for v in values]\n",
    "\treturn web_info"
   ]
  },
  {
   "cell_type": "code",
   "execution_count": 21,
   "metadata": {
    "collapsed": true
   },
   "outputs": [],
   "source": [
    "p1 = get_web_info(\"https://digital.lib.washington.edu/researchworks/handle/1773/20063/browse?rpp=20&sort_by=2&type=dateissued&offset=0&etal=-1&order=ASC\")\n",
    "p2 = get_web_info(\"https://digital.lib.washington.edu/researchworks/handle/1773/20063/browse?rpp=20&sort_by=2&type=dateissued&offset=20&etal=-1&order=ASC\")\n",
    "web_info = p1 + p2\n",
    "# print(web_info)"
   ]
  },
  {
   "cell_type": "code",
   "execution_count": 22,
   "metadata": {
    "collapsed": false
   },
   "outputs": [
    {
     "data": {
      "text/plain": [
       "[{'author': ['Williams', 'Jacob', 'A'],\n",
       "  'link': 'https://digital.lib.washington.edu/researchworks/handle/1773/20881?show=full',\n",
       "  'title': \"Modernizing the Greek Tragedy Clint Eastwood's Impact on the Western\"},\n",
       " {'author': ['Campbell', 'Crystal'],\n",
       "  'link': 'https://digital.lib.washington.edu/researchworks/handle/1773/23386?show=full',\n",
       "  'title': 'The War With No End Sentencing Disparities in the War on Drugs and National Trends that are Defining a Nation'},\n",
       " {'author': ['Laakso', 'Alysen', 'Kristen'],\n",
       "  'link': 'https://digital.lib.washington.edu/researchworks/handle/1773/24105?show=full',\n",
       "  'title': 'Building Sustainable Behavior through Social Marketing Encouraging Reusable Shopping Bag Use at Stadium Thriftway in Tacoma WA A Case Study'},\n",
       " {'author': ['McConnell', 'Jennifer'],\n",
       "  'link': 'https://digital.lib.washington.edu/researchworks/handle/1773/24106?show=full',\n",
       "  'title': 'David and Goliath Individualism and Liberty in the Italian Renaissance and the American Revolution'},\n",
       " {'author': ['Panzer', 'Sean', 'Robert'],\n",
       "  'link': 'https://digital.lib.washington.edu/researchworks/handle/1773/25196?show=full',\n",
       "  'title': 'Master of Interdisaplinary Studies'},\n",
       " {'author': ['Olive', 'Victoria', 'Catherine'],\n",
       "  'link': 'https://digital.lib.washington.edu/researchworks/handle/1773/35108?show=full',\n",
       "  'title': 'Sexual Violence in a Native American Community Native American Women Speak Out'},\n",
       " {'author': ['Montange', 'Leah', 'Rachel'],\n",
       "  'link': 'https://digital.lib.washington.edu/researchworks/handle/1773/33514?show=full',\n",
       "  'title': 'These are the Ghettos of Washington Public Housing and Neoliberalization in Tacoma WA'},\n",
       " {'author': ['Avella', 'Douglas', 'J'],\n",
       "  'link': 'https://digital.lib.washington.edu/researchworks/handle/1773/27379?show=full',\n",
       "  'title': \"Critical reflections on and in the field The Study of Religion' and the methodology of true reflexive praxis in Puerto Rico\"},\n",
       " {'author': ['Chapman', 'Kyle', 'Joseph'],\n",
       "  'link': 'https://digital.lib.washington.edu/researchworks/handle/1773/36431?show=full',\n",
       "  'title': 'Digital Activism How Social Media Prevalence has Impacted Modern Activism'},\n",
       " {'author': ['Demmings', 'Naomi'],\n",
       "  'link': 'https://digital.lib.washington.edu/researchworks/handle/1773/38049?show=full',\n",
       "  'title': 'HIVAIDS Social Stigma and Visual Art'}]"
      ]
     },
     "execution_count": 22,
     "metadata": {},
     "output_type": "execute_result"
    }
   ],
   "source": [
    "missing_info = [i for i in web_info if i['title'] in missing_titles]\n",
    "missing_info"
   ]
  },
  {
   "cell_type": "code",
   "execution_count": 19,
   "metadata": {
    "collapsed": true
   },
   "outputs": [],
   "source": [
    "fieldnames = ['title', 'publication_date', 'season', 'document_type', 'date_avail', \n",
    "              'work_type', 'degree_name', 'department', 'advisor1', 'advisor2'\n",
    "              'advisor3', 'advisor4', 'keywords', 'disciplines', 'abstract', \n",
    "              'comments', 'fulltext_url', 'author1_fname', 'author1_mname', 'author1_lname', \n",
    "              'author1_suffix', 'author1_suffix', 'author1_email', 'author1_institution']"
   ]
  },
  {
   "cell_type": "code",
   "execution_count": 25,
   "metadata": {
    "collapsed": true
   },
   "outputs": [],
   "source": [
    "spreadsheet = []\n",
    "for row in missing_info:\n",
    "    ex_row = {}\n",
    "    ex_row['title'] = row['title']\n",
    "    ex_row['author1_fname'] = row['author'][1]\n",
    "    if len(row['author']) == 3:\n",
    "        ex_row['author1_mname'] = row['author'][2]\n",
    "    else:\n",
    "        ex_row['author1_mname'] = ''\n",
    "    ex_row['author1_lname'] = row['author'][0]\n",
    "    ex_row['author1_institution'] = 'University of Washington Tacoma'\n",
    "    ex_row['author1_email'] = 'SOMETHING'\n",
    "    ex_row['fulltext_url'] = ''\n",
    "    ex_row['degree_name'] = 'Master of Arts in Interdisciplinary Studies (MAIS)'\n",
    "    spreadsheet.append(ex_row)"
   ]
  },
  {
   "cell_type": "code",
   "execution_count": 27,
   "metadata": {
    "collapsed": false
   },
   "outputs": [
    {
     "name": "stdout",
     "output_type": "stream",
     "text": [
      "text/html; charset=UTF-8\n",
      "text/html; charset=UTF-8\n",
      "IE=edge,chrome=1\n",
      "width=device-width,initial-scale=1\n",
      "DSpace 5.6\n",
      "Jolly, Natalie\n",
      "Chamberlain, Ed\n",
      "Demmings, Naomi\n",
      "2017-02-14T22:35:34Z\n",
      "2016-12\n",
      "Demmings_washington_0250O_16652.pdf\n",
      "http://hdl.handle.net/1773/38049\n",
      "Thesis (Master's)--University of Washington, 2016-12\n",
      "The purpose of this research is to examine the development and progression of HIV/AIDS stigma within a social structure of power and powerlessness from the early 1980s to the 2010s, through a case study of selected visual images. I focus on the social aspect of how HIV/AIDS is given social stigmas that cause as much suffering as the disease’s physical health effects.  To do this, I apply Erving Goffman’s theory on stigma and analyzing visual images from the early 1980s, 1990s and early 2000s to consider how HIV/AIDS has been constructed and reinforced through time. In considering the historical context I show that each of these images responds to stigma as it existed in the early 1980s but also in the ways that it exists today.\n",
      "application/pdf\n",
      "en_US\n",
      "CC BY-NC-ND\n",
      "HIV/AIDS\n",
      "Stigma\n",
      "Visual Art\n",
      "Art criticism\n",
      "Art history\n",
      "Sociology\n",
      "interdisciplinary arts and sciences - tacoma\n",
      "HIVAIDS Social Stigma and Visual Art\n",
      "Thesis\n",
      "HIV/AIDS; Stigma; Visual Art; Thesis\n",
      "HIVAIDS Social Stigma and Visual Art\n",
      "HIVAIDS Social Stigma and Visual Art\n",
      "en_US\n",
      "Demmings, Naomi\n",
      "2017-02-14T22:35:34Z\n",
      "https://digital.lib.washington.edu:443/researchworks/handle/1773/38049\n"
     ]
    }
   ],
   "source": [
    "def get_excel_info(weblink):\n",
    "    page = requests.get(weblink)\n",
    "    soup = BeautifulSoup(page.content, 'html.parser')\n",
    "    title_items = soup.select('td.artifact-title a')\n",
    "    for item in soup.findAll('meta'):\n",
    "        meta_attrs = dict(item.attrs)\n",
    "        print(meta_attrs[u'content'])\n",
    "get_excel_info('https://digital.lib.washington.edu/researchworks/handle/1773/38049?show=full')\n",
    "#     keys = ['title','link','author']\n",
    "#     values = list(zip(alpha_titles,full_link_text,aulist_list))\n",
    "#     web_info = [dict(zip(keys, v)) for v in values]\n",
    "#     return web_info"
   ]
  },
  {
   "cell_type": "code",
   "execution_count": null,
   "metadata": {
    "collapsed": true
   },
   "outputs": [],
   "source": []
  }
 ],
 "metadata": {
  "anaconda-cloud": {},
  "kernelspec": {
   "display_name": "Python [default]",
   "language": "python",
   "name": "python3"
  },
  "language_info": {
   "codemirror_mode": {
    "name": "ipython",
    "version": 3
   },
   "file_extension": ".py",
   "mimetype": "text/x-python",
   "name": "python",
   "nbconvert_exporter": "python",
   "pygments_lexer": "ipython3",
   "version": "3.5.2"
  }
 },
 "nbformat": 4,
 "nbformat_minor": 1
}
