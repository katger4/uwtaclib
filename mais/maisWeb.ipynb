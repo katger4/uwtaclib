{
 "cells": [
  {
   "cell_type": "code",
   "execution_count": 2,
   "metadata": {
    "collapsed": true
   },
   "outputs": [],
   "source": [
    "import requests\n",
    "from bs4 import BeautifulSoup\n",
    "import re\n",
    "import csv"
   ]
  },
  {
   "cell_type": "code",
   "execution_count": 3,
   "metadata": {
    "collapsed": false
   },
   "outputs": [],
   "source": [
    "# https://www.dataquest.io/blog/web-scraping-tutorial-python/\n",
    "def get_titles(weblink):\n",
    "\tpage = requests.get(weblink)\n",
    "\tsoup = BeautifulSoup(page.content, 'html.parser')\n",
    "\ttitle_items = soup.select('h4.artifact-title a')\n",
    "\ttitle_names = [i.get_text() for i in title_items]\n",
    "\treturn title_names\n",
    "\n",
    "p1titles = get_titles(\"https://digital.lib.washington.edu/researchworks/handle/1773/20063/browse?rpp=20&sort_by=2&type=dateissued&offset=0&etal=-1&order=ASC\")\n",
    "p2titles = get_titles(\"https://digital.lib.washington.edu/researchworks/handle/1773/20063/browse?rpp=20&sort_by=2&type=dateissued&offset=20&etal=-1&order=ASC\")\n",
    "\n",
    "web_titles = p1titles + p2titles\n"
   ]
  },
  {
   "cell_type": "code",
   "execution_count": 4,
   "metadata": {
    "collapsed": true
   },
   "outputs": [],
   "source": [
    "def get_alpha_titles(titleslist):\n",
    "\talpha_t = []\n",
    "\tfor i in titleslist:\n",
    "\t\tstrlist = re.findall(r\"[\\w']+\", i)\n",
    "\t\tstrwt = ' '.join(strlist)\n",
    "\t\talpha_t.append(strwt)\n",
    "\treturn alpha_t"
   ]
  },
  {
   "cell_type": "code",
   "execution_count": 5,
   "metadata": {
    "collapsed": true
   },
   "outputs": [],
   "source": [
    "def load_csv_titles(filename):\n",
    "\twith open(filename, 'r', encoding='utf-8') as file:\n",
    "\t\t# create empty array to hold each entry as a dict\n",
    "\t\tdata = []\n",
    "\t\t# create a csv-reader object\n",
    "\t\treader = csv.DictReader(file)\n",
    "\t\t# loop through each row in the csv-reader object...\n",
    "\t\tfor row in reader:\n",
    "\t\t\tdata.append(row['title'])\n",
    "\treturn data\n"
   ]
  },
  {
   "cell_type": "code",
   "execution_count": 6,
   "metadata": {
    "collapsed": true
   },
   "outputs": [],
   "source": [
    "\n",
    "csv_titles = load_csv_titles('./data/mais.csv')\n",
    "\n",
    "alpha_wt = get_alpha_titles(web_titles)\n",
    "alpha_ct = get_alpha_titles(csv_titles)\n",
    "\n",
    "missing_titles = []\n",
    "for i in alpha_wt:\n",
    "\tif i not in alpha_ct:\n",
    "\t\tmissing_titles.append(i)"
   ]
  },
  {
   "cell_type": "code",
   "execution_count": 10,
   "metadata": {
    "collapsed": false
   },
   "outputs": [
    {
     "data": {
      "text/plain": [
       "[\"Modernizing the Greek Tragedy Clint Eastwood's Impact on the Western\",\n",
       " 'The War With No End Sentencing Disparities in the War on Drugs and National Trends that are Defining a Nation',\n",
       " 'Building Sustainable Behavior through Social Marketing Encouraging Reusable Shopping Bag Use at Stadium Thriftway in Tacoma WA A Case Study',\n",
       " 'David and Goliath Individualism and Liberty in the Italian Renaissance and the American Revolution',\n",
       " 'Master of Interdisaplinary Studies',\n",
       " 'Sexual Violence in a Native American Community Native American Women Speak Out',\n",
       " 'These are the Ghettos of Washington Public Housing and Neoliberalization in Tacoma WA',\n",
       " \"Critical reflections on and in the field The Study of Religion' and the methodology of true reflexive praxis in Puerto Rico\",\n",
       " 'Digital Activism How Social Media Prevalence has Impacted Modern Activism',\n",
       " 'HIVAIDS Social Stigma and Visual Art']"
      ]
     },
     "execution_count": 10,
     "metadata": {},
     "output_type": "execute_result"
    }
   ],
   "source": [
    "missing_titles"
   ]
  },
  {
   "cell_type": "code",
   "execution_count": 14,
   "metadata": {
    "collapsed": true
   },
   "outputs": [],
   "source": [
    "def get_web_info(weblink):\n",
    "\tpage = requests.get(weblink)\n",
    "\tsoup = BeautifulSoup(page.content, 'html.parser')\n",
    "\t\n",
    "\ttitle_items = soup.select('h4.artifact-title a')\n",
    "\ttitle_names = [i.get_text() for i in title_items]\n",
    "\talpha_titles = get_alpha_titles(title_names)\n",
    "\t\n",
    "\tlink_items = soup.select('h4.artifact-title a[href]')\n",
    "\tlink_text = [i['href'] for i in link_items]\n",
    "\tfull_link_text = ['https://digital.lib.washington.edu'+i for i in link_text]\n",
    "\n",
    "\tau_items = soup.select('div.artifact-info')\n",
    "\tau_text = [i.get_text() for i in au_items]\n",
    "\talphanum_au = get_alpha_titles(au_text)\n",
    "\taulist_list = [re.findall('[%A-Za-z]+', i) for i in alphanum_au]\n",
    "\n",
    "\tkeys = ['title','link','author']\n",
    "\tvalues = list(zip(alpha_titles,full_link_text,aulist_list))\n",
    "\tweb_info = [dict(zip(keys, v)) for v in values]\n",
    "\treturn web_info"
   ]
  },
  {
   "cell_type": "code",
   "execution_count": 15,
   "metadata": {
    "collapsed": true
   },
   "outputs": [],
   "source": [
    "p1 = get_web_info(\"https://digital.lib.washington.edu/researchworks/handle/1773/20063/browse?rpp=20&sort_by=2&type=dateissued&offset=0&etal=-1&order=ASC\")\n",
    "p2 = get_web_info(\"https://digital.lib.washington.edu/researchworks/handle/1773/20063/browse?rpp=20&sort_by=2&type=dateissued&offset=20&etal=-1&order=ASC\")\n",
    "web_info = p1 + p2\n",
    "# print(web_info)"
   ]
  },
  {
   "cell_type": "code",
   "execution_count": 16,
   "metadata": {
    "collapsed": false
   },
   "outputs": [
    {
     "data": {
      "text/plain": [
       "[{'author': ['Williams', 'Jacob', 'A'],\n",
       "  'link': 'https://digital.lib.washington.edu/researchworks/handle/1773/20881',\n",
       "  'title': \"Modernizing the Greek Tragedy Clint Eastwood's Impact on the Western\"},\n",
       " {'author': ['Campbell', 'Crystal'],\n",
       "  'link': 'https://digital.lib.washington.edu/researchworks/handle/1773/23386',\n",
       "  'title': 'The War With No End Sentencing Disparities in the War on Drugs and National Trends that are Defining a Nation'},\n",
       " {'author': ['Laakso', 'Alysen', 'Kristen'],\n",
       "  'link': 'https://digital.lib.washington.edu/researchworks/handle/1773/24105',\n",
       "  'title': 'Building Sustainable Behavior through Social Marketing Encouraging Reusable Shopping Bag Use at Stadium Thriftway in Tacoma WA A Case Study'},\n",
       " {'author': ['McConnell', 'Jennifer'],\n",
       "  'link': 'https://digital.lib.washington.edu/researchworks/handle/1773/24106',\n",
       "  'title': 'David and Goliath Individualism and Liberty in the Italian Renaissance and the American Revolution'},\n",
       " {'author': ['Panzer', 'Sean', 'Robert'],\n",
       "  'link': 'https://digital.lib.washington.edu/researchworks/handle/1773/25196',\n",
       "  'title': 'Master of Interdisaplinary Studies'},\n",
       " {'author': ['Olive', 'Victoria', 'Catherine'],\n",
       "  'link': 'https://digital.lib.washington.edu/researchworks/handle/1773/35108',\n",
       "  'title': 'Sexual Violence in a Native American Community Native American Women Speak Out'},\n",
       " {'author': ['Montange', 'Leah', 'Rachel'],\n",
       "  'link': 'https://digital.lib.washington.edu/researchworks/handle/1773/33514',\n",
       "  'title': 'These are the Ghettos of Washington Public Housing and Neoliberalization in Tacoma WA'},\n",
       " {'author': ['Avella', 'Douglas', 'J'],\n",
       "  'link': 'https://digital.lib.washington.edu/researchworks/handle/1773/27379',\n",
       "  'title': \"Critical reflections on and in the field The Study of Religion' and the methodology of true reflexive praxis in Puerto Rico\"},\n",
       " {'author': ['Chapman', 'Kyle', 'Joseph'],\n",
       "  'link': 'https://digital.lib.washington.edu/researchworks/handle/1773/36431',\n",
       "  'title': 'Digital Activism How Social Media Prevalence has Impacted Modern Activism'},\n",
       " {'author': ['Demmings', 'Naomi'],\n",
       "  'link': 'https://digital.lib.washington.edu/researchworks/handle/1773/38049',\n",
       "  'title': 'HIVAIDS Social Stigma and Visual Art'}]"
      ]
     },
     "execution_count": 16,
     "metadata": {},
     "output_type": "execute_result"
    }
   ],
   "source": [
    "missing_info = [i for i in web_info if i['title'] in missing_titles]\n",
    "missing_info"
   ]
  },
  {
   "cell_type": "code",
   "execution_count": null,
   "metadata": {
    "collapsed": true
   },
   "outputs": [],
   "source": []
  }
 ],
 "metadata": {
  "anaconda-cloud": {},
  "kernelspec": {
   "display_name": "Python [default]",
   "language": "python",
   "name": "python3"
  },
  "language_info": {
   "codemirror_mode": {
    "name": "ipython",
    "version": 3
   },
   "file_extension": ".py",
   "mimetype": "text/x-python",
   "name": "python",
   "nbconvert_exporter": "python",
   "pygments_lexer": "ipython3",
   "version": "3.5.2"
  }
 },
 "nbformat": 4,
 "nbformat_minor": 1
}
